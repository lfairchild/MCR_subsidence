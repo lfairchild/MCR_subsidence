{
 "cells": [
  {
   "cell_type": "markdown",
   "metadata": {},
   "source": [
    "# Notes on MCR literature"
   ]
  },
  {
   "cell_type": "markdown",
   "metadata": {},
   "source": [
    "A compilation of notes on previous Midcontinent Rift research relevant to the subsidence model.\n",
    "\n",
    "Key papers:\n",
    "White1995a\n",
    "Stein2015\n"
   ]
  },
  {
   "cell_type": "markdown",
   "metadata": {},
   "source": [
    "## Magmatic origin of the Midcontinent Rift"
   ]
  },
  {
   "cell_type": "markdown",
   "metadata": {},
   "source": [
    "## Lithospheric flexure, and quantifying surface loading"
   ]
  },
  {
   "cell_type": "markdown",
   "metadata": {},
   "source": [
    "## Syn-rift lithospheric thinning"
   ]
  },
  {
   "cell_type": "markdown",
   "metadata": {},
   "source": [
    "### White and McKenzie (1995), White (1997)"
   ]
  },
  {
   "cell_type": "markdown",
   "metadata": {},
   "source": [
    "Estimates from REE inversion depict MCR melt generation between 120 km (early stage) and 40 km (late stage), suggesting significant lithospheric thinning and a $\\beta$ stretching factor of 6.\n",
    "<img src=\"White1997_fig1.png\">"
   ]
  },
  {
   "cell_type": "markdown",
   "metadata": {},
   "source": [
    "## Rifting rates, overall lithospheric response"
   ]
  },
  {
   "cell_type": "code",
   "execution_count": null,
   "metadata": {
    "collapsed": true
   },
   "outputs": [],
   "source": []
  }
 ],
 "metadata": {
  "kernelspec": {
   "display_name": "Python 3",
   "language": "python",
   "name": "python3"
  },
  "language_info": {
   "codemirror_mode": {
    "name": "ipython",
    "version": 3
   },
   "file_extension": ".py",
   "mimetype": "text/x-python",
   "name": "python",
   "nbconvert_exporter": "python",
   "pygments_lexer": "ipython3",
   "version": "3.4.3"
  }
 },
 "nbformat": 4,
 "nbformat_minor": 0
}
