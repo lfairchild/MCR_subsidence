{
 "cells": [
  {
   "cell_type": "markdown",
   "metadata": {},
   "source": [
    "# Flexural and thermal subsidence in the 1.1 Ga Midcontinent Rift"
   ]
  },
  {
   "cell_type": "markdown",
   "metadata": {},
   "source": [
    "* [Implementations of lithospheric flexure and thermal subsidence theory](#the_destination)\n",
    "    * [Simple flexural of elastic lithosphere under a line load](#line_load)\n",
    "    * [Thermal subsidence](#thermal_sub)\n",
    "* [Midcontinent Rift background](#MCR_background)\n",
    "* [Parameterizing the model](#parameters)\n",
    "    * [Flexural rigidity of Laurentian craton](#flex_rigidity)"
   ]
  },
  {
   "cell_type": "code",
   "execution_count": 2,
   "metadata": {
    "collapsed": false
   },
   "outputs": [],
   "source": [
    "import numpy as np\n",
    "import scipy as special\n",
    "import matplotlib.pyplot as plt\n",
    "%matplotlib inline"
   ]
  },
  {
   "cell_type": "markdown",
   "metadata": {},
   "source": [
    "<a id='the_destination'></a>"
   ]
  },
  {
   "cell_type": "markdown",
   "metadata": {},
   "source": [
    "# Lithospheric flexure and thermal subsidence theory"
   ]
  },
  {
   "cell_type": "code",
   "execution_count": null,
   "metadata": {
    "collapsed": true
   },
   "outputs": [],
   "source": []
  },
  {
   "cell_type": "code",
   "execution_count": null,
   "metadata": {
    "collapsed": true
   },
   "outputs": [],
   "source": []
  },
  {
   "cell_type": "code",
   "execution_count": null,
   "metadata": {
    "collapsed": true
   },
   "outputs": [],
   "source": []
  },
  {
   "cell_type": "markdown",
   "metadata": {},
   "source": [
    "<a id='line_load'></a>"
   ]
  },
  {
   "cell_type": "markdown",
   "metadata": {},
   "source": [
    "## Simple flexural of elastic lithosphere under a line load"
   ]
  },
  {
   "cell_type": "markdown",
   "metadata": {},
   "source": [
    "We begin with a simple example of lithospheric flexure given by Turcotte and Schubert (2014). The deflection of the lithosphere by a linear load can be represented generally by the fourth order equation:\n",
    "\\begin{equation}\n",
    "D\\frac{d^4 w}{d x^4} + P\\frac{d^2 w}{d x^2} + (\\rho_m - \\rho_c)gw = q_a(x)\n",
    "\\end{equation}\n",
    "In the case of a line load applied at $x=0$ where horizontal pressure $P=0$ and a distributed applied load $q_a(x)=0$ (except at $x=0$), this equation simplifies to:\n",
    "\\begin{equation}\n",
    "D\\frac{d^4 w}{d x^4} + (\\rho_m - \\rho_w)gw = 0\n",
    "\\end{equation}\n",
    "The general solution to this is:\n",
    "\\begin{equation}\n",
    "w = \\frac{V_0 \\alpha^3}{8D} e^{x/\\alpha}(\\cos{x/\\alpha} + \\sin{x/\\alpha})\n",
    "\\end{equation}\n",
    "where $V_0$ is the vertical load, $\\alpha$ is the flexural parameter, and $D$ is the flexural rigidity of the loaded plate. "
   ]
  },
  {
   "cell_type": "markdown",
   "metadata": {},
   "source": [
    "<a id='MCR_background'></a>"
   ]
  },
  {
   "cell_type": "markdown",
   "metadata": {
    "collapsed": true
   },
   "source": [
    "# Midcontinent Rift background"
   ]
  },
  {
   "cell_type": "markdown",
   "metadata": {},
   "source": [
    "The Midcontient Rift (MCR) is a 1.1 Ga rift system in the interior of the Laurentian craton that lasted approximately 30 myr. This rift system is of geodynamic interest because it contains flood basalts averaging $\\sim5.8$ km in thickness, a feature typical of large igenous provinces (LIPs) but uncharacteristic of normal rift systems. 120 km wide on average"
   ]
  },
  {
   "cell_type": "markdown",
   "metadata": {},
   "source": [
    "First, we need to evaluate spreading rate and determine how much the lithosphere was thinned by rifting. We then must invoke a stretching factor $\\beta$ (McKenzie, 1978). This will give us elastic thickness at discrete time intervals with which we can then evaluate 1) flexural subsidence due to loading and 2) post-rift thermal subsidence as the perturbed lithosphere cooled.\n",
    "\n",
    "A key question in this analysis is whether major disconformities observed within the MCR are associated with regions of flexural bulging."
   ]
  },
  {
   "cell_type": "markdown",
   "metadata": {},
   "source": [
    "break up into stages, evaluate flexure"
   ]
  },
  {
   "cell_type": "markdown",
   "metadata": {},
   "source": [
    "<a id='parameters'></a>"
   ]
  },
  {
   "cell_type": "markdown",
   "metadata": {},
   "source": [
    "# Parameterizing the model"
   ]
  },
  {
   "cell_type": "markdown",
   "metadata": {},
   "source": [
    "<a id='flex_rigidity'></a>"
   ]
  },
  {
   "cell_type": "markdown",
   "metadata": {},
   "source": [
    "## Flexural rigidity of Laurentian craton"
   ]
  },
  {
   "cell_type": "markdown",
   "metadata": {},
   "source": [
    "Nyquist and Wang (1988) estimated a post-rift flexural rigidity of $\\sim$$10^{21-22}$ N m for the flexing lithosphere."
   ]
  },
  {
   "cell_type": "code",
   "execution_count": null,
   "metadata": {
    "collapsed": true
   },
   "outputs": [],
   "source": []
  }
 ],
 "metadata": {
  "kernelspec": {
   "display_name": "Python 3",
   "language": "python",
   "name": "python3"
  },
  "language_info": {
   "codemirror_mode": {
    "name": "ipython",
    "version": 3
   },
   "file_extension": ".py",
   "mimetype": "text/x-python",
   "name": "python",
   "nbconvert_exporter": "python",
   "pygments_lexer": "ipython3",
   "version": "3.4.3"
  }
 },
 "nbformat": 4,
 "nbformat_minor": 0
}
