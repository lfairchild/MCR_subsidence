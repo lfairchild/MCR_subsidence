{
 "cells": [
  {
   "cell_type": "markdown",
   "metadata": {},
   "source": [
    "# Flexural and thermal subsidence in the 1.1 Ga Midcontinent Rift"
   ]
  },
  {
   "cell_type": "markdown",
   "metadata": {},
   "source": [
    "* [Implementations of lithospheric flexure and thermal subsidence theory](#the_destination)\n",
    "    * [Simple flexural of elastic lithosphere under a line load](#line_load)\n",
    "    * [Thermal subsidence](#thermal_sub)\n",
    "* [Midcontinent Rift background](#MCR_background)\n",
    "* [Parameterizing the model](#parameters)\n",
    "    * [Flexural rigidity of Laurentian craton](#flex_rigidity)"
   ]
  },
  {
   "cell_type": "code",
   "execution_count": 2,
   "metadata": {
    "collapsed": false
   },
   "outputs": [],
   "source": [
    "import numpy as np\n",
    "import scipy as special\n",
    "import matplotlib.pyplot as plt\n",
    "%matplotlib inline"
   ]
  },
  {
   "cell_type": "markdown",
   "metadata": {},
   "source": [
    "# Motivation"
   ]
  },
  {
   "cell_type": "markdown",
   "metadata": {},
   "source": [
    "## Midcontinent Rift Evolution"
   ]
  },
  {
   "cell_type": "markdown",
   "metadata": {},
   "source": [
    "The evolution of the Midcontinent Rift has been discretized into four magmatic intervals: the early, latent, main, and late stages. Occasional felsic volcanism accompanied these stages, so U-Pb dates are the primary constraint on the timing of these distinct magmatic intervals. This timeline of rift development is based on exposure that is very limited relative to the size of the rift inferred from gravity and seismic data and therefore may be incomplete. A thorough understanding of the rift's subsidence history could elucidate just how limited these past interpretations of rift evolution may be. For instance, the latent stage is characterized by quiescent volcanism as interpretted from unconformities within the volcanic sequence. However, if the flexural subsidence of the MCR resulted in peripheral bulging, it is plausible that some of these unconformities may instead be a result of preferential erosion. This is just one example of how a thorough understanding of MCR subsidence could have implications for the broader evolution of the MCR and our interpretations of its history from its present structure. "
   ]
  },
  {
   "cell_type": "markdown",
   "metadata": {},
   "source": [
    "## Potential Influence on Paleomagnetic Results"
   ]
  },
  {
   "cell_type": "markdown",
   "metadata": {},
   "source": [
    "The subsidence history of the MCR is strongly tied to the degree of lithospheric thinning throughout rift development, and is therefore related to the total amount of offset between either side of the MCR limbs. The magnitude of this offset (the amount of spreading actually attained during rifting) can potentially have strong influences on the paleolatitudes interpretted through paleomagnetic data. Fortunately, much paleomagnetic data, from which estimates for plate velocity and Mesoproterozoic paleogeography derive, are oriented in such a way relative to the rift that should record reliable paleolatitude of Laurentia regardless of spreading (i.e. paleomagnetic poles from Osler Group, North Shore volcanic group, etc. indicate alignment with a geomagnetic field oriented perpendicular to the direction of rifting). However, given the overall \"U\"-shaped geometry of the MCR, this is a fortuitous result of the inferred rifting direction only where MCR rocks are largely accessible for paleomagnetic sampling (north and south Lake Superior). *Discuss new Halls2015 paper and influence of Grenville Orogeny, which probably influenced post-rift subsidence but estimates of its degree of influence varies wildly"
   ]
  },
  {
   "cell_type": "markdown",
   "metadata": {},
   "source": [
    "## Paleogeography, Geologic Setting, and Origins of Rift"
   ]
  },
  {
   "cell_type": "markdown",
   "metadata": {},
   "source": [
    "Reconciling estimates of thermal subsidence of a modeled, isolated rift system with current seismic observations could elucidate the tectonic setting of the MCR and other potential influences on its post-rift thermal subsidence. MCR thermal subsidence was still under way at the time of the ~1040 Ma Grenville Orogeny, when it is thought MCR normal faults were reactivated as reverse faults, accomodating the [Laurentia-Amazonia]? continental collision. Estimates of overall crustal shortening during this episode vary from 30 km (White1997) to 4000 km (Halls2015). Juxtaposing modeled and observed thermal subsidence in the MCR could provide much-needed clarification to the intensity of this crustal shortening, as such a comparison may reveal just to what degree the thermal subsidence of the MCR was interrupted by the onset of a collisional event. Additionally, if the nature of MCR thermal subsidence is resolvable and not overwhelmed by the influence of the Grenville Orogeny, this could provide insight into the magmatic origin of the MCR. For instance, because the buoyant upwelling of a mantle plume, thermal subsidence would have been both delayed and mitigated by presumed syn-rift lithospheric upwarping. If mantle temperatures were normal (no plume), and MCR volcanism was largely a feature of passive spreading and decompression melting, White1997 showed that post-rift subsidence in the MCR by 1050 Ma would have reached depths far greater (~18 km) than those actually observed (4-8 km). This point is therefore used as an argument for a mantle plume origin of the MCR, in contrast to the argument that MCR was largely a result of far-field stresses due to the rifting of Amazonia from Laurentia and ceased once an oceanic basin formed between the two continents."
   ]
  },
  {
   "cell_type": "markdown",
   "metadata": {},
   "source": [
    "<a id='the_destination'></a>"
   ]
  },
  {
   "cell_type": "markdown",
   "metadata": {},
   "source": [
    "# Lithospheric flexure and thermal subsidence theory"
   ]
  },
  {
   "cell_type": "markdown",
   "metadata": {
    "collapsed": true
   },
   "source": [
    "## Thermal subsidence"
   ]
  },
  {
   "cell_type": "markdown",
   "metadata": {
    "collapsed": true
   },
   "source": [
    "A widely accepted model of thermal subsidence was proposed by McKenzie (1978), who invoked the concept of a $\\beta$ stretching factor. A generalized timeline of this model is outlined as follows: under tensional stresses, the lithosphere thins by a factor of $\\beta$. This is followed by the upwelling of hot asthenosphere, which subsequently cools toward the original geotherm and causes lithospheric thickening. This thickening results in the gradual subsidence of the crust, known as **thermal subsidence**. This sequence of events is outlined in the figure below from McKenzie (1978).\n",
    "<img src=\"../Data/beta_stretching.png\">"
   ]
  },
  {
   "cell_type": "code",
   "execution_count": null,
   "metadata": {
    "collapsed": true
   },
   "outputs": [],
   "source": []
  },
  {
   "cell_type": "markdown",
   "metadata": {},
   "source": [
    "<a id='line_load'></a>"
   ]
  },
  {
   "cell_type": "markdown",
   "metadata": {},
   "source": [
    "## Simple flexural of elastic lithosphere under a line load"
   ]
  },
  {
   "cell_type": "markdown",
   "metadata": {},
   "source": [
    "We begin with a simple example of lithospheric flexure given by Turcotte and Schubert (2014). The deflection of the lithosphere by a linear load can be represented generally by the fourth order equation:\n",
    "\\begin{equation}\n",
    "D\\frac{d^4 w}{d x^4} + P\\frac{d^2 w}{d x^2} + (\\rho_m - \\rho_c)gw = q_a(x)\n",
    "\\end{equation}\n",
    "In the case of a line load applied at $x=0$ where horizontal pressure $P=0$ and a distributed applied load $q_a(x)=0$ (except at $x=0$), this equation simplifies to:\n",
    "\\begin{equation}\n",
    "D\\frac{d^4 w}{d x^4} + (\\rho_m - \\rho_w)gw = 0\n",
    "\\end{equation}\n",
    "The general solution to this is:\n",
    "\\begin{equation}\n",
    "w = \\frac{V_0 \\alpha^3}{8D} e^{x/\\alpha}(\\cos{x/\\alpha} + \\sin{x/\\alpha})\n",
    "\\end{equation}\n",
    "where $V_0$ is the vertical load, $\\alpha$ is the flexural parameter, and $D$ is the flexural rigidity of the loaded plate. These parameters are defined as follows:\n",
    "\\begin{equation}\n",
    "D\\equiv \\frac{Eh^3}{12(1-\\upsilon ^2)},\n",
    "\\end{equation}\n",
    "where $E=$Young's modulus and $\\upsilon =$Poisson's ratio, and\n",
    "\\begin{equation}\n",
    "\\alpha = \\Big[ \\frac{4D}{(\\rho_m - \\rho_w)g}\\Big] ^{1/4}.\n",
    "\\end{equation}"
   ]
  },
  {
   "cell_type": "markdown",
   "metadata": {},
   "source": [
    "<a id='MCR_background'></a>"
   ]
  },
  {
   "cell_type": "markdown",
   "metadata": {
    "collapsed": true
   },
   "source": [
    "# Midcontinent Rift background"
   ]
  },
  {
   "cell_type": "markdown",
   "metadata": {},
   "source": [
    "The Midcontient Rift (MCR) is a 1.1 Ga rift system in the interior of the Laurentian craton that lasted approximately 30 myr. This rift system is of geodynamic interest because it contains flood basalts averaging $\\sim5.8$ km in thickness, a feature typical of large igenous provinces (LIPs) but uncharacteristic of normal rift systems. 120 km wide on average"
   ]
  },
  {
   "cell_type": "markdown",
   "metadata": {},
   "source": [
    "First, we need to evaluate spreading rate and determine how much the lithosphere was thinned by rifting. We then must invoke a stretching factor $\\beta$ (McKenzie, 1978). This will give us elastic thickness at discrete time intervals with which we can then evaluate 1) flexural subsidence due to loading and 2) post-rift thermal subsidence as the perturbed lithosphere cooled.\n",
    "\n",
    "A key question in this analysis is whether major unconformities observed within the MCR are associated with regions of flexural bulging."
   ]
  },
  {
   "cell_type": "markdown",
   "metadata": {},
   "source": [
    "break up into stages, evaluate flexure"
   ]
  },
  {
   "cell_type": "markdown",
   "metadata": {},
   "source": [
    "<a id='parameters'></a>"
   ]
  },
  {
   "cell_type": "markdown",
   "metadata": {},
   "source": [
    "# Parameterizing the model"
   ]
  },
  {
   "cell_type": "markdown",
   "metadata": {},
   "source": [
    "<a id='flex_rigidity'></a>"
   ]
  },
  {
   "cell_type": "markdown",
   "metadata": {},
   "source": [
    "## Stretching Factor $\\beta$"
   ]
  },
  {
   "cell_type": "markdown",
   "metadata": {},
   "source": [
    "White (1997) estimated a $\\beta$ stretching factor of 6 for MCR rifting:\n",
    "> For an overall stretching ($\\beta$) factor of 6, the first phase of lithospheric extension is by a factor of 2.0 from 1110 to 1105 Ma, producing the first period of volcanism starting at 1109 Ma. Continued extension from 1105 to 1100 Ma is much smaller, stretching the lithosphere by a further factor of 1.2: this allows continued gentle subsidence with limited volcanism, in keeping with observations. Finally, an increased rate of stretching by a factor of 2.5 between 1100 and 1094 Ma reproduces the thick sequence of igneous rocks emplaced in the main volcanic phase. After 1094 Ma, the lithosphere is allowed to subside thermally as the mantle beneath the rift cools and as the mantle plume thermal anomaly decays. "
   ]
  },
  {
   "cell_type": "markdown",
   "metadata": {},
   "source": [
    "## Flexural rigidity of Laurentian craton"
   ]
  },
  {
   "cell_type": "markdown",
   "metadata": {},
   "source": [
    "Nyquist and Wang (1988) estimated a post-rift flexural rigidity of $\\sim$$10^{21-22}$ N m for the flexing lithosphere."
   ]
  },
  {
   "cell_type": "code",
   "execution_count": null,
   "metadata": {
    "collapsed": true
   },
   "outputs": [],
   "source": []
  }
 ],
 "metadata": {
  "kernelspec": {
   "display_name": "Python 3",
   "language": "python",
   "name": "python3"
  },
  "language_info": {
   "codemirror_mode": {
    "name": "ipython",
    "version": 3
   },
   "file_extension": ".py",
   "mimetype": "text/x-python",
   "name": "python",
   "nbconvert_exporter": "python",
   "pygments_lexer": "ipython3",
   "version": "3.4.3"
  }
 },
 "nbformat": 4,
 "nbformat_minor": 0
}
